{
  "nbformat": 4,
  "nbformat_minor": 0,
  "metadata": {
    "colab": {
      "name": "Emotion Recognition.ipynb",
      "provenance": [],
      "collapsed_sections": [],
      "authorship_tag": "ABX9TyNCLubJ9Iufi4Dx2g9Oe3jh",
      "include_colab_link": true
    },
    "kernelspec": {
      "name": "python3",
      "display_name": "Python 3"
    },
    "language_info": {
      "name": "python"
    },
    "accelerator": "TPU"
  },
  "cells": [
    {
      "cell_type": "markdown",
      "metadata": {
        "id": "view-in-github",
        "colab_type": "text"
      },
      "source": [
        "<a href=\"https://colab.research.google.com/github/AYUSH-11/AYUSH-11.github.io/blob/master/Emotion_Recognition.ipynb\" target=\"_parent\"><img src=\"https://colab.research.google.com/assets/colab-badge.svg\" alt=\"Open In Colab\"/></a>"
      ]
    },
    {
      "cell_type": "code",
      "metadata": {
        "id": "IaSbgAF5yfLo"
      },
      "source": [
        "import numpy as np\n",
        "import cv2\n",
        "from keras.models import Sequential\n",
        "from keras.layers import Dense,Dropout, Flatten, Conv2D, MaxPooling2D\n",
        "from keras.preprocessing.image import ImageDataGenerator\n",
        "from tensorflow.keras.optimizers import Adam\n",
        "from google.colab.patches import cv2_imshow\n",
        "from keras.preprocessing import image\n",
        "import matplotlib.pyplot as plt\n",
        "from google.colab import drive  #to import Google drive data\n",
        "from keras.models import load_model"
      ],
      "execution_count": null,
      "outputs": []
    },
    {
      "cell_type": "code",
      "metadata": {
        "id": "vom1cMSiL3G7",
        "colab": {
          "base_uri": "https://localhost:8080/"
        },
        "outputId": "a433ccf4-651c-4b81-9c2a-1ef26512387c"
      },
      "source": [
        "drive.mount('/content/drive') #to the drive data into colab cloud and enter the activation colab "
      ],
      "execution_count": null,
      "outputs": [
        {
          "output_type": "stream",
          "name": "stdout",
          "text": [
            "Mounted at /content/drive\n"
          ]
        }
      ]
    },
    {
      "cell_type": "code",
      "metadata": {
        "id": "UAI6Oy5n3OgF",
        "colab": {
          "base_uri": "https://localhost:8080/"
        },
        "outputId": "45ea740b-dcad-4279-c366-7b9b10ee1d94"
      },
      "source": [
        "cd /content/drive/\"My Drive/Colab Notebooks/ER\""
      ],
      "execution_count": null,
      "outputs": [
        {
          "output_type": "stream",
          "name": "stdout",
          "text": [
            "/content/drive/My Drive/Colab Notebooks/ER\n"
          ]
        }
      ]
    },
    {
      "cell_type": "code",
      "metadata": {
        "id": "TTcugw613fNH",
        "colab": {
          "base_uri": "https://localhost:8080/"
        },
        "outputId": "57e1355a-e4f1-4005-ecbc-3a775f702b60"
      },
      "source": [
        "train_img_datagen = ImageDataGenerator(rescale=1./255)\n",
        "val_img_datagen = ImageDataGenerator(rescale=1./255)\n",
        "\n",
        "train_set = train_img_datagen.flow_from_directory(\n",
        "    'train',\n",
        "    target_size=(48,48),\n",
        "    batch_size = 64,\n",
        "    color_mode='rgb',\n",
        "    class_mode='categorical')\n",
        "val_set = val_img_datagen.flow_from_directory(\n",
        "    'test',\n",
        "    target_size=(48,48),\n",
        "    batch_size = 64,\n",
        "    color_mode='rgb',\n",
        "    class_mode='categorical')\n"
      ],
      "execution_count": null,
      "outputs": [
        {
          "output_type": "stream",
          "name": "stdout",
          "text": [
            "Found 29108 images belonging to 7 classes.\n",
            "Found 7178 images belonging to 7 classes.\n"
          ]
        }
      ]
    },
    {
      "cell_type": "code",
      "metadata": {
        "id": "eT8-R28s4Qnv",
        "colab": {
          "base_uri": "https://localhost:8080/"
        },
        "outputId": "2cb767f4-8030-442e-85cf-0c392134a78f"
      },
      "source": [
        "import tensorflow as tf\n",
        "base_model = tf.keras.applications.ResNet50(input_shape=(48,48,3),include_top= False,weights=\"imagenet\")"
      ],
      "execution_count": null,
      "outputs": [
        {
          "output_type": "stream",
          "name": "stdout",
          "text": [
            "Downloading data from https://storage.googleapis.com/tensorflow/keras-applications/resnet/resnet50_weights_tf_dim_ordering_tf_kernels_notop.h5\n",
            "94773248/94765736 [==============================] - 1s 0us/step\n",
            "94781440/94765736 [==============================] - 1s 0us/step\n"
          ]
        }
      ]
    },
    {
      "cell_type": "code",
      "metadata": {
        "id": "vhJIpntn4_9c"
      },
      "source": [
        "model = Sequential()\n",
        "\n",
        "model.add(Conv2D(32, kernel_size=(3, 3), activation='relu', input_shape=(48,48,1)))\n",
        "model.add(Conv2D(64, kernel_size=(3, 3), activation='relu'))\n",
        "model.add(MaxPooling2D(pool_size=(2, 2)))\n",
        "model.add(Dropout(0.25))\n",
        "\n",
        "model.add(Conv2D(128, kernel_size=(3, 3), activation='relu'))\n",
        "model.add(MaxPooling2D(pool_size=(2, 2)))\n",
        "model.add(Conv2D(128, kernel_size=(3, 3), activation='relu'))\n",
        "model.add(MaxPooling2D(pool_size=(2, 2)))\n",
        "model.add(Dropout(0.25))\n",
        "\n",
        "model.add(Flatten())\n",
        "model.add(Dense(1024, activation='relu'))\n",
        "model.add(Dropout(0.5))\n",
        "model.add(Dense(7, activation='softmax'))"
      ],
      "execution_count": null,
      "outputs": []
    },
    {
      "cell_type": "code",
      "metadata": {
        "id": "3y4hbYYKthvN"
      },
      "source": [
        "model.compile(loss='categorical_crossentropy',optimizer=Adam(lr=0.0001, decay = 1e-6, amsgrad='True'),metrics=['accuracy'])\n",
        "model_info = model.fit_generator(train_set,steps_per_epoch=448,\n",
        "                                 epochs=50,validation_data = val_set,\n",
        "                                 validation_steps=112)"
      ],
      "execution_count": null,
      "outputs": []
    },
    {
      "cell_type": "code",
      "metadata": {
        "id": "qKcZnVXPu5aD",
        "colab": {
          "base_uri": "https://localhost:8080/"
        },
        "outputId": "f8f39062-c5c0-4512-cee2-e3dbb69ec472"
      },
      "source": [
        "#model.save('model.h5')"
      ],
      "execution_count": null,
      "outputs": [
        {
          "output_type": "stream",
          "name": "stderr",
          "text": [
            "/usr/local/lib/python3.7/dist-packages/keras/utils/generic_utils.py:497: CustomMaskWarning: Custom mask layers require a config and must override get_config. When loading, the custom mask layer must be passed to the custom_objects argument.\n",
            "  category=CustomMaskWarning)\n"
          ]
        }
      ]
    },
    {
      "cell_type": "code",
      "metadata": {
        "id": "zYRqDDQVvd8W"
      },
      "source": [
        "#model = load_model('model.h5')\n",
        "model.load_weights('model.h5')"
      ],
      "execution_count": null,
      "outputs": []
    },
    {
      "cell_type": "code",
      "metadata": {
        "id": "G9XCDBn3vpTO"
      },
      "source": [
        "def emotion_predict(emotions,x,true_image):\n",
        "    objects = ('angry', 'disgust', 'fear', 'happy', 'sad', 'surprise', 'neutral')\n",
        "    y_pos = np.arange(len(objects))\n",
        "    plt.bar(y_pos, emotions, align='center', alpha=0.5)\n",
        "    plt.xticks(y_pos,objects)\n",
        "    plt.ylabel('percentage')\n",
        "    plt.title('emotion')\n",
        "    plt.show()\n",
        "    x = np.array(x,'float32')\n",
        "    x = x.reshape([48, 48])\n",
        "    plt.imshow(true_image)\n",
        "    plt.show()    "
      ],
      "execution_count": null,
      "outputs": []
    },
    {
      "cell_type": "code",
      "metadata": {
        "id": "vDBoCTTivpLA"
      },
      "source": [
        "def facecrop(image):\n",
        "    facedata = '/content/haarcascade_frontalface_alt.xml'\n",
        "    cascade = cv2.CascadeClassifier(facedata)\n",
        "\n",
        "    img = cv2.imread(image)\n",
        "    \n",
        "    try:\n",
        "        minsize = (img.shape[1],img.shape[0])\n",
        "        \n",
        "        miniframe = cv2.resize(img,minsize)\n",
        "        face_cascade = cv2.CascadeClassifier('haarcascade_frontalface_alt.xml')\n",
        "        faceCascade=cv2.CascadeClassifier(cv2.data.haarcascades + \"haarcascade_frontalface_default.xml\")\n",
        "        imgGray=cv2.cvtColor(img,cv2.COLOR_BGR2GRAY)\n",
        "        faces = faceCascade.detectMultiScale(imgGray,1.1,4)\n",
        "        for (x,y,w,h) in faces:\n",
        "            cv2.rectangle(img,(x,y),(x+w,y+h),(0,255,0),2)\n",
        "            sub_face = img[y:y+h, x:x+w]\n",
        "        \n",
        "        cv2.imwrite('capture.jpg',sub_face)\n",
        "       \n",
        "    except Exception as e:\n",
        "        print(e)\n",
        "    "
      ],
      "execution_count": null,
      "outputs": []
    },
    {
      "cell_type": "code",
      "metadata": {
        "colab": {
          "base_uri": "https://localhost:8080/",
          "height": 531
        },
        "id": "QkUCYNp9BKIV",
        "outputId": "7662b8f9-7fb7-4606-8eda-6fb9ddd300e4"
      },
      "source": [
        "\n",
        "file = 'PrivateTest_1221822.jpg'\n",
        "\n",
        "facecrop(file)\n",
        "true_image = image.load_img(file)\n",
        "img = image.load_img(file,color_mode=\"grayscale\", target_size=(48, 48))\n",
        "\n",
        "x = image.img_to_array(img)\n",
        "x = np.expand_dims(x, axis = 0)\n",
        "\n",
        "x /= 255\n",
        "\n",
        "predictions = model.predict(x) \n",
        "\n",
        "predictions = predictions.flatten()\n",
        "\n",
        "custom = emotion_predict(predictions,x,true_image)"
      ],
      "execution_count": null,
      "outputs": [
        {
          "output_type": "display_data",
          "data": {
            "image/png": "[encoded data removed]",
            "text/plain": [
              "<Figure size 432x288 with 1 Axes>"
            ]
          },
          "metadata": {
            "needs_background": "light"
          }
        },
        {
          "output_type": "display_data",
          "data": {
            "image/png": "[encoded data removed]",
            "text/plain": [
              "<Figure size 432x288 with 1 Axes>"
            ]
          },
          "metadata": {
            "needs_background": "light"
          }
        }
      ]
    },
    {
      "cell_type": "code",
      "metadata": {
        "id": "7hFB6aqDx5nA"
      },
      "source": [
        ""
      ],
      "execution_count": null,
      "outputs": []
    }
  ]
}